{
 "cells": [
  {
   "cell_type": "code",
   "execution_count": 2,
   "id": "6e88e354-78f2-41b4-9b77-9670d86129e6",
   "metadata": {},
   "outputs": [],
   "source": [
    "import tensorflow_probability as tfp\n",
    "import tensorflow as tf\n",
    "import pandas as pd\n",
    "\n",
    "tfd = tfp.distributions \n",
    "\n",
    "from core.run import prior_elicitation\n",
    "from user.generative_models import ToyModel\n",
    "from core.write_results import create_output_summary"
   ]
  },
  {
   "cell_type": "markdown",
   "id": "d6591275-4dc4-4a01-a6fb-d10a518711c0",
   "metadata": {},
   "source": [
    "### The model\n",
    "The statistical model of the toy example is an intercept-only normal model with location $\\mu$ and random noise $\\sigma$. The location parameter $\\mu$ is a function of the intercept $\\beta_0$.    \n",
    "$$\n",
    "\\begin{align*}\n",
    "    \\beta_0 &\\sim \\text{Normal}(\\mu_\\mu, \\sigma_\\mu)\\quad \\quad &\\text{Priors}\\\\\n",
    "    \\sigma &\\sim \\text{Normal}(0, \\sigma_\\sigma)\\quad \\quad &\\\\\n",
    "    \\mu &= \\textbf{1}_N\\beta_0 \\quad \\quad &\\text{with obs}=1,\\ldots, N\\\\\n",
    "    height_i &\\sim \\text{Normal}(\\mu, \\sigma) \\quad \\quad &\\text{Likelihood}\n",
    "\\end{align*}\n",
    "$$\n",
    "Our goal is to find values for $\\lambda = (\\mu_\\mu, \\sigma_\\mu, \\sigma_\\sigma)$."
   ]
  },
  {
   "cell_type": "code",
   "execution_count": 3,
   "id": "35ffc6b8-529a-4d6e-9908-631f06211459",
   "metadata": {},
   "outputs": [
    {
     "data": {
      "text/plain": [
       "\u001b[1;31mInit signature:\u001b[0m \u001b[0mToyModel\u001b[0m\u001b[1;33m(\u001b[0m\u001b[1;33m)\u001b[0m\u001b[1;33m\u001b[0m\u001b[1;33m\u001b[0m\u001b[0m\n",
       "\u001b[1;31mDocstring:\u001b[0m      <no docstring>\n",
       "\u001b[1;31mSource:\u001b[0m        \n",
       "\u001b[1;32mclass\u001b[0m \u001b[0mToyModel\u001b[0m\u001b[1;33m:\u001b[0m\u001b[1;33m\n",
       "\u001b[0m    \u001b[1;32mdef\u001b[0m \u001b[0m__call__\u001b[0m\u001b[1;33m(\u001b[0m\u001b[0mself\u001b[0m\u001b[1;33m,\u001b[0m \u001b[0mground_truth\u001b[0m\u001b[1;33m,\u001b[0m \u001b[0mprior_samples\u001b[0m\u001b[1;33m,\u001b[0m \u001b[0mN\u001b[0m\u001b[1;33m)\u001b[0m\u001b[1;33m:\u001b[0m\u001b[1;33m\n",
       "\u001b[0m        \u001b[1;31m# number of observations (intercept-only)\u001b[0m\u001b[1;33m\n",
       "\u001b[0m        \u001b[0mX\u001b[0m \u001b[1;33m=\u001b[0m \u001b[0mtf\u001b[0m\u001b[1;33m.\u001b[0m\u001b[0mones\u001b[0m\u001b[1;33m(\u001b[0m\u001b[1;33m(\u001b[0m\u001b[1;36m1\u001b[0m\u001b[1;33m,\u001b[0m\u001b[0mN\u001b[0m\u001b[1;33m)\u001b[0m\u001b[1;33m)\u001b[0m\u001b[1;33m\n",
       "\u001b[0m        \u001b[1;31m# linear predictor (= mu)\u001b[0m\u001b[1;33m\n",
       "\u001b[0m        \u001b[0mepred\u001b[0m \u001b[1;33m=\u001b[0m \u001b[0mtf\u001b[0m\u001b[1;33m.\u001b[0m\u001b[0mexpand_dims\u001b[0m\u001b[1;33m(\u001b[0m\u001b[0mprior_samples\u001b[0m\u001b[1;33m[\u001b[0m\u001b[1;33m:\u001b[0m\u001b[1;33m,\u001b[0m\u001b[1;33m:\u001b[0m\u001b[1;33m,\u001b[0m\u001b[1;36m0\u001b[0m\u001b[1;33m]\u001b[0m\u001b[1;33m,\u001b[0m\u001b[1;33m-\u001b[0m\u001b[1;36m1\u001b[0m\u001b[1;33m)\u001b[0m \u001b[1;33m@\u001b[0m \u001b[0mX\u001b[0m\u001b[1;33m\n",
       "\u001b[0m        \u001b[1;31m# data-generating model \u001b[0m\u001b[1;33m\n",
       "\u001b[0m        \u001b[0mlikelihood\u001b[0m \u001b[1;33m=\u001b[0m \u001b[0mtfd\u001b[0m\u001b[1;33m.\u001b[0m\u001b[0mNormal\u001b[0m\u001b[1;33m(\u001b[0m\u001b[0mloc\u001b[0m\u001b[1;33m=\u001b[0m\u001b[0mepred\u001b[0m\u001b[1;33m,\u001b[0m\u001b[1;33m\n",
       "\u001b[0m                                \u001b[0mscale\u001b[0m\u001b[1;33m=\u001b[0m\u001b[0mtf\u001b[0m\u001b[1;33m.\u001b[0m\u001b[0mexpand_dims\u001b[0m\u001b[1;33m(\u001b[0m\u001b[0mprior_samples\u001b[0m\u001b[1;33m[\u001b[0m\u001b[1;33m:\u001b[0m\u001b[1;33m,\u001b[0m\u001b[1;33m:\u001b[0m\u001b[1;33m,\u001b[0m\u001b[1;36m1\u001b[0m\u001b[1;33m]\u001b[0m\u001b[1;33m,\u001b[0m\u001b[1;33m-\u001b[0m\u001b[1;36m1\u001b[0m\u001b[1;33m)\u001b[0m\u001b[1;33m)\u001b[0m\u001b[1;33m\n",
       "\u001b[0m        \u001b[1;31m# prior predictive distribution (=height)\u001b[0m\u001b[1;33m\n",
       "\u001b[0m        \u001b[0mypred\u001b[0m \u001b[1;33m=\u001b[0m \u001b[0mlikelihood\u001b[0m\u001b[1;33m.\u001b[0m\u001b[0msample\u001b[0m\u001b[1;33m(\u001b[0m\u001b[1;33m)\u001b[0m\u001b[1;33m\n",
       "\u001b[0m        \u001b[1;33m\n",
       "\u001b[0m        \u001b[1;32mreturn\u001b[0m \u001b[0mdict\u001b[0m\u001b[1;33m(\u001b[0m\u001b[0mlikelihood\u001b[0m \u001b[1;33m=\u001b[0m \u001b[0mlikelihood\u001b[0m\u001b[1;33m,\u001b[0m     \u001b[1;33m\n",
       "\u001b[0m                    \u001b[0mypred\u001b[0m \u001b[1;33m=\u001b[0m \u001b[0mypred\u001b[0m\u001b[1;33m,\u001b[0m                 \u001b[1;33m\n",
       "\u001b[0m                    \u001b[0mepred\u001b[0m \u001b[1;33m=\u001b[0m \u001b[0mepred\u001b[0m\u001b[1;33m,\u001b[0m\u001b[1;33m\n",
       "\u001b[0m                    \u001b[0mprior_samples\u001b[0m \u001b[1;33m=\u001b[0m \u001b[0mprior_samples\u001b[0m                 \u001b[1;33m\n",
       "\u001b[0m                    \u001b[1;33m)\u001b[0m\u001b[1;33m\u001b[0m\u001b[1;33m\u001b[0m\u001b[0m\n",
       "\u001b[1;31mFile:\u001b[0m           c:\\users\\bockting\\documents\\github\\prior_elicitation\\elicit\\user\\generative_models.py\n",
       "\u001b[1;31mType:\u001b[0m           type\n",
       "\u001b[1;31mSubclasses:\u001b[0m     "
      ]
     },
     "metadata": {},
     "output_type": "display_data"
    }
   ],
   "source": [
    "# implementation of the generative model\n",
    "??ToyModel"
   ]
  },
  {
   "cell_type": "markdown",
   "id": "87ef5c40-b8c1-461d-9d92-0b0d6cf2045b",
   "metadata": {},
   "source": [
    "## Expert information\n",
    "**Example elicitation approach:**\n",
    "\n",
    "The expert is asked w.r.t.\n",
    "+ their *median* ($Q_{50}$; value for which there is a 50/50 chance of being more or less)\n",
    "+ the lower and upper quartiles ($Q_{25}$ and $Q_{75}$ respectively; the expert should judge it to be equally likely for $y$ to be below $Q_{25}$ or between $Q_{25}$ and $Q_{50}$, and they should also judge it equally likely that $y$ would be between $Q_{50}$ and $Q_{75}$ or above $Q_{75}$.)\n",
    "+ the lower and upper boundary ($Q_{5}$ and $Q_{95}$ respectively; equivalent to min and max but more stable)\n",
    "+ a coherence check: $Q_{5} < Q_{25} < Q_{50} < Q_{75} < Q_{95}$ (ranking should not be violated)\n"
   ]
  },
  {
   "cell_type": "code",
   "execution_count": 4,
   "id": "6c2739de-9daa-4e37-954c-10da1e6884ea",
   "metadata": {},
   "outputs": [
    {
     "data": {
      "text/html": [
       "<div>\n",
       "<style scoped>\n",
       "    .dataframe tbody tr th:only-of-type {\n",
       "        vertical-align: middle;\n",
       "    }\n",
       "\n",
       "    .dataframe tbody tr th {\n",
       "        vertical-align: top;\n",
       "    }\n",
       "\n",
       "    .dataframe thead th {\n",
       "        text-align: right;\n",
       "    }\n",
       "</style>\n",
       "<table border=\"1\" class=\"dataframe\">\n",
       "  <thead>\n",
       "    <tr style=\"text-align: right;\">\n",
       "      <th></th>\n",
       "      <th>$Q_{5}$</th>\n",
       "      <th>$Q_{25}$</th>\n",
       "      <th>$Q_{50}$</th>\n",
       "      <th>$Q_{75}$</th>\n",
       "      <th>$Q_{95}$</th>\n",
       "    </tr>\n",
       "  </thead>\n",
       "  <tbody>\n",
       "    <tr>\n",
       "      <th>ypred</th>\n",
       "      <td>154.0</td>\n",
       "      <td>166.0</td>\n",
       "      <td>170.0</td>\n",
       "      <td>174.0</td>\n",
       "      <td>186.0</td>\n",
       "    </tr>\n",
       "  </tbody>\n",
       "</table>\n",
       "</div>"
      ],
      "text/plain": [
       "       $Q_{5}$  $Q_{25}$  $Q_{50}$  $Q_{75}$  $Q_{95}$\n",
       "ypred    154.0     166.0     170.0     174.0     186.0"
      ]
     },
     "execution_count": 4,
     "metadata": {},
     "output_type": "execute_result"
    }
   ],
   "source": [
    "expert_info = pd.read_pickle(\"../../../elicit/simulations/parametric_prior_examples/expert_data/toy-example/elicited_statistics.pkl\")\n",
    "pd.DataFrame(tf.round(expert_info[\"quantiles_ypred\"]), columns=[fr\"$Q_{{{i}}}$\" for i in [5,25,50,75,95]], index = [\"ypred\"])"
   ]
  },
  {
   "cell_type": "code",
   "execution_count": 5,
   "id": "ce169abb-6da8-435b-ae38-ff195f80e4c7",
   "metadata": {},
   "outputs": [
    {
     "name": "stdout",
     "output_type": "stream",
     "text": [
      "|||||||||||||||||||||||||||||||||||||||||||||||||||||||||||||||||||||||||||||||||||||||||||||||||||| \n",
      "epoch_time: 0.377 sec\n",
      "Epoch: 0, loss: 75.91544, lr: 0.100000\n",
      "epoch_time: 0.372 sec\n",
      "Epoch: 40, loss: 73.77965, lr: 0.099196\n",
      "Estimated time until completion: 00:02:10\n",
      "epoch_time: 0.392 sec\n",
      "Epoch: 80, loss: 71.96887, lr: 0.096812\n",
      "Estimated time until completion: 00:01:58\n",
      "epoch_time: 0.378 sec\n",
      "Epoch: 120, loss: 69.98235, lr: 0.092922\n",
      "Estimated time until completion: 00:01:44\n",
      "epoch_time: 0.360 sec\n",
      "Epoch: 160, loss: 68.19955, lr: 0.087654\n",
      "Estimated time until completion: 00:01:28\n",
      "epoch_time: 0.376 sec\n",
      "Epoch: 200, loss: 66.33440, lr: 0.081174\n",
      "Estimated time until completion: 00:01:13\n",
      "epoch_time: 0.393 sec\n",
      "Epoch: 240, loss: 64.49417, lr: 0.073693\n",
      "Estimated time until completion: 00:00:59\n",
      "epoch_time: 0.428 sec\n",
      "Epoch: 280, loss: 62.72324, lr: 0.065451\n",
      "Estimated time until completion: 00:00:44\n",
      "epoch_time: 0.379 sec\n",
      "Epoch: 320, loss: 60.91063, lr: 0.056712\n",
      "Estimated time until completion: 00:00:29\n",
      "epoch_time: 0.412 sec\n",
      "Epoch: 360, loss: 58.76479, lr: 0.047757\n",
      "Estimated time until completion: 00:00:14\n",
      "Done :)\n"
     ]
    }
   ],
   "source": [
    "prior_elicitation(\n",
    "    model_parameters=dict(\n",
    "        mu=dict(family=tfd.Normal, \n",
    "                hyperparams_dict={\n",
    "                      \"mu_loc\": tfd.Uniform(100.,200.),\n",
    "                      \"mu_scale\": tfd.Uniform(1., 30)\n",
    "                      },\n",
    "                param_scaling=1.\n",
    "                ),\n",
    "        sigma=dict(family=tfd.HalfNormal,\n",
    "                   hyperparams_dict={\n",
    "                      \"sigma_scale\": tfd.Uniform(1.,50.)\n",
    "                      },\n",
    "                   param_scaling=1.\n",
    "                   ),\n",
    "        independence = False\n",
    "        ),\n",
    "    expert_data=dict(\n",
    "        data=expert_info,\n",
    "        from_ground_truth = False\n",
    "        ),\n",
    "    generative_model=dict(\n",
    "        model=ToyModel,\n",
    "        additional_model_args={\n",
    "            \"N\": 200\n",
    "            }\n",
    "        ),\n",
    "    target_quantities=dict(\n",
    "        ypred=dict(\n",
    "            elicitation_method=\"quantiles\",\n",
    "            quantiles_specs=(5, 25, 50, 75, 95),\n",
    "            loss_components = \"all\"\n",
    "            )\n",
    "        ),\n",
    "    optimization_settings=dict(\n",
    "        optimizer_specs={\n",
    "            \"learning_rate\": tf.keras.optimizers.schedules.CosineDecay(\n",
    "                0.1, 700),\n",
    "            \"clipnorm\": 1.0\n",
    "            }\n",
    "        ),\n",
    "    training_settings=dict(\n",
    "        method=\"parametric_prior\",\n",
    "        sim_id=\"toy_example\",\n",
    "        warmup_initializations=100,\n",
    "        seed=0,\n",
    "        view_ep=40,\n",
    "        epochs=400\n",
    "    )\n",
    "    )"
   ]
  },
  {
   "cell_type": "code",
   "execution_count": 36,
   "id": "4ed29099-ecd8-49a5-a048-27c64dbc0c2b",
   "metadata": {},
   "outputs": [
    {
     "data": {
      "image/png": "[encoded data removed]",
      "text/plain": [
       "<Figure size 640x480 with 1 Axes>"
      ]
     },
     "metadata": {},
     "output_type": "display_data"
    }
   ],
   "source": [
    "from plotting import func\n",
    "path = \"./elicit/results/parametric_prior/toy_example_0\"\n",
    "\n",
    "func.plot_loss(path)"
   ]
  }
 ],
 "metadata": {
  "kernelspec": {
   "display_name": "Python 3 (ipykernel)",
   "language": "python",
   "name": "python3"
  },
  "language_info": {
   "codemirror_mode": {
    "name": "ipython",
    "version": 3
   },
   "file_extension": ".py",
   "mimetype": "text/x-python",
   "name": "python",
   "nbconvert_exporter": "python",
   "pygments_lexer": "ipython3",
   "version": "3.11.10"
  }
 },
 "nbformat": 4,
 "nbformat_minor": 5
}
