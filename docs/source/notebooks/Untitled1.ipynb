{
 "cells": [
  {
   "cell_type": "markdown",
   "id": "9756eee6-a173-4fd7-bbff-c34597f3c0aa",
   "metadata": {},
   "source": [
    "# Parameteric prior approach\n",
    "\n",
    "Short intro about conceptual idea of this method\n",
    "\n",
    "Introduce prior distribution families for model parameters for toy example"
   ]
  },
  {
   "cell_type": "code",
   "execution_count": null,
   "id": "5c2b9e78-f730-4623-87ce-9483a1950130",
   "metadata": {},
   "outputs": [],
   "source": [
    "# import necessary libraries\n",
    "import tensorflow_probability as tfp\n",
    "import tensorflow as tf\n",
    "import pandas as pd\n",
    "import seaborn as sns\n",
    "import matplotlib.pyplot as plt\n",
    "\n",
    "tfd = tfp.distributions \n",
    "\n",
    "from functions.loss_functions import MMD_energy\n",
    "from setup.input_functions import param, model, target, loss, expert, optimization, prior_elicitation"
   ]
  },
  {
   "cell_type": "markdown",
   "id": "dcbd34a8-06a5-4961-99af-cb66596df1af",
   "metadata": {},
   "source": [
    "### The model\n",
    "The statistical model for our toy example can be written as follows:\n",
    "$$\n",
    "\\begin{align*}\n",
    "    \\mu &\\sim \\text{Normal}(\\mu_\\mu, \\sigma_\\mu)\\quad \\quad &\\text{Priors}\\\\\n",
    "    \\sigma &\\sim \\text{Normal}(0, \\sigma_\\sigma)\\quad \\quad &\\\\\n",
    "    height_i &\\sim \\text{Normal}(\\mu, \\sigma) \\quad \\quad &\\text{Likelihood}\n",
    "\\end{align*}\n",
    "$$\n",
    "Our goal is to find values for $\\lambda = (\\mu_\\mu, \\sigma_\\mu, \\sigma_\\sigma)$.\n",
    "\n",
    "For the implementation of the generative model we use the `model()` function which has the following arguments:\n",
    "+ `model`: a class object which implements the generative model; its helpful for better organization to implement the class in a different file `generative_models` and then to import the class\n",
    "+ `discrete_liklihood`: True or False; whether the likelihood function is discrete or not (if discrete an approximation method is used to compute the gradients)\n",
    "+ `additional_model_args`: specification of optional arguments for the model class"
   ]
  },
  {
   "cell_type": "code",
   "execution_count": 2,
   "id": "4db12b79-c025-434e-b19e-42e402fa70c0",
   "metadata": {},
   "outputs": [],
   "source": [
    "# data-generating model\n",
    "from user_input.generative_models import Model\n",
    "def generative_model():\n",
    "    return model(\n",
    "        Model,\n",
    "        discrete_likelihood=False,\n",
    "        additional_model_args=None\n",
    "        )"
   ]
  },
  {
   "cell_type": "code",
   "execution_count": 3,
   "id": "5b119812-babd-4d97-a4b3-9a4a6f9b54f6",
   "metadata": {},
   "outputs": [],
   "source": [
    "# user_input.generative_models > Model:\n",
    "# implementation of the generative model \n",
    "# all input and output arguments are necessary arguments\n",
    "class Model:\n",
    "    def __call__(self, ground_truth, prior_samples):         \n",
    "\n",
    "        # data-generating model\n",
    "        likelihood = tfd.Normal(loc=prior_samples[:,:,0],\n",
    "                                scale=prior_samples[:,:,1])\n",
    "        \n",
    "        # prior predictive distribution\n",
    "        ypred = likelihood.sample()\n",
    "        \n",
    "        return dict(likelihood = likelihood,             \n",
    "                    ypred = ypred,                 \n",
    "                    epred = None,\n",
    "                    prior_samples = prior_samples                 \n",
    "                    )"
   ]
  },
  {
   "cell_type": "markdown",
   "id": "d0aa0c8d-672b-43dd-b519-be09536ccaf6",
   "metadata": {},
   "source": [
    "Besides the implementation of the generative model, we need also to inform the elicitation method about the model parameters.\n",
    "We define each model parameter within a tuple using the `param()` function:\n",
    "+ `name`: string; name of the model parameter\n",
    "+ `family`: tensorflow-probability distribution; parametric prior distribution family\n",
    "+ `hyperparams_dict`: dict; keys represent the name of each hyperparameter and values represent initial value or distribution to sample initial value from (for starting generative approach)"
   ]
  },
  {
   "cell_type": "code",
   "execution_count": 4,
   "id": "06d3879d-5cae-4e8f-87d1-adee90720c2a",
   "metadata": {},
   "outputs": [],
   "source": [
    "# model parameters\n",
    "def model_params():  \n",
    "        return (\n",
    "            param(\n",
    "                name=\"mu\",\n",
    "                family=tfd.Normal,\n",
    "                hyperparams_dict={\n",
    "                    \"mu_mu\": tfd.Uniform(100.,200.),\n",
    "                    \"sigma_mu\": tfd.Uniform(1., 30)\n",
    "                    }\n",
    "            ),\n",
    "            param(\n",
    "                name=\"sigma\",\n",
    "                family=tfd.HalfNormal,\n",
    "                hyperparams_dict={\n",
    "                    \"mu_sigma\": tfd.Uniform(1.,50.)\n",
    "                    }\n",
    "            )\n",
    "        )"
   ]
  },
  {
   "cell_type": "markdown",
   "id": "14c17544-fd72-428e-9770-fa810e72c90c",
   "metadata": {},
   "source": [
    "## Expert information (prior knowledge)\n",
    "In general the expert will \n",
    "\n",
    "\n",
    "There are different techniques to elicit information from an expert. In the following we assume that we query an expert using a *quantile-based* technique.\n",
    "\n",
    "**Example elicitation approach:**\n",
    "\n",
    "The expert is asked w.r.t.\n",
    "+ their *median* ($Q_{50}$; value for which there is a 50/50 chance of being more or less)\n",
    "+ the lower and upper quartiles ($Q_{25}$ and $Q_{75}$ respectively; the expert should judge it to be equally likely for $y$ to be below $Q_{25}$ or between $Q_{25}$ and $Q_{50}$, and they should also judge it equally likely that $y$ would be between $Q_{50}$ and $Q_{75}$ or above $Q_{75}$.)\n",
    "+ the lower and upper boundary ($Q_{5}$ and $Q_{95}$ respectively; equivalent to min and max but more stable)\n",
    "+ a coherence check: $Q_{5} < Q_{25} < Q_{50} < Q_{75} < Q_{95}$ (ranking should not be violated)\n",
    "\n",
    "A possible list of expert information could then look as follows:\n",
    "\n",
    "+ $\\hat t_1 = Q_{5\\%}(height_i) = 153 cm$ \n",
    "+ $\\hat t_2 = Q_{25\\%}(height_i) = 166 cm$\n",
    "+ $\\hat t_3 = Q_{50\\%}(height_i) = 170 cm$ (median)\n",
    "+ $\\hat t_4 = Q_{75\\%}(height_i) = 174 cm$\n",
    "+ $\\hat t_5 = Q_{95\\%}(height_i) = 186 cm$\n",
    "\n",
    "To specify the elicitation technique we use the `target()` function:\n",
    "+ `name`: str; name of the target quantity; here we use the prior predictive distribution\n",
    "+ `elicitation_method`: str; specifies the elicitation technique used (currently supported: quantiles, histogram and moments)\n",
    "+ `quantiles_specs`: tuple; only required if elicitation_method is quantiles; specifies the quantiles that should be computed from the target quantity\n",
    "+ `loss_components`: str; specifies whether the quantiles should be trained as one loss component or in several loss components (currently supported: by-group, all)\n",
    "\n",
    "Note: The function target_quantities() expects a tuple."
   ]
  },
  {
   "cell_type": "code",
   "execution_count": 5,
   "id": "66850c15-cad9-4f79-a220-c916b7ee46b7",
   "metadata": {},
   "outputs": [],
   "source": [
    "# elicited information\n",
    "def target_quantities():\n",
    "    return (\n",
    "        target(\n",
    "            name=\"ypred\",\n",
    "            elicitation_method=\"quantiles\",\n",
    "            quantiles_specs=(5, 25, 50, 75, 95),\n",
    "            loss_components = \"by-group\"\n",
    "            ),\n",
    "        )   "
   ]
  },
  {
   "cell_type": "markdown",
   "id": "767878f8-aef2-4861-8b56-1631dc683e88",
   "metadata": {},
   "source": [
    "Finally, we need to input the expert information to our method, which we can do via the `expert()` function. \n",
    "\n",
    "This function provides the possibility to \n",
    "+ provide a list with expert information for the `data` argument (e.g., a list with the five quantiles)\n",
    "+ simulate a pre-specified ground truth by setting `simulate_data=True` (this will simulate from the generative model and compute all necessary elicited statistics as detailed below) \n",
    "\n",
    "We will simulate expert information by assuming the following *true* hyperparameter: $\\mu_\\mu=170$, $\\sigma_\\mu=2$, and $\\sigma_\\sigma=10$.\n",
    "+ `simulator_specs`: dict; with this argument, we can specify the ground truth with keys being equal to model parameter names (must match with names specified in param functions) and\n",
    "values representing the corresponding distribution functions with the true hyperparameter values. \n",
    "+ `rep`: int, specifies the number of samples drawn from the prior distributions"
   ]
  },
  {
   "cell_type": "code",
   "execution_count": 6,
   "id": "d82b902e-d287-4fa9-afb9-271a591e4726",
   "metadata": {},
   "outputs": [],
   "source": [
    "def expert_input():\n",
    "    return expert(\n",
    "        data=None,\n",
    "        simulate_data=True,\n",
    "        simulator_specs={\n",
    "            \"mu\": tfd.Normal(170., 2.),\n",
    "            \"sigma\": tfd.HalfNormal(10.),\n",
    "            },\n",
    "        rep=10_000\n",
    "        ) "
   ]
  },
  {
   "cell_type": "code",
   "execution_count": 39,
   "id": "151f54fb-57fb-4b00-aff1-aa231a61a79d",
   "metadata": {},
   "outputs": [
    {
     "data": {
      "image/png": "[encoded data removed]",
      "text/plain": [
       "<Figure size 800x300 with 1 Axes>"
      ]
     },
     "metadata": {},
     "output_type": "display_data"
    },
    {
     "data": {
      "text/plain": [
       "<tf.Tensor: shape=(1, 5), dtype=float32, numpy=\n",
       "array([[153.15569, 165.8458 , 169.97394, 174.12561, 186.1812 ]],\n",
       "      dtype=float32)>"
      ]
     },
     "execution_count": 39,
     "metadata": {},
     "output_type": "execute_result"
    }
   ],
   "source": [
    "path = \"elicit/simulations/results/data/parametric_prior/\"\n",
    "file = \"toy_0\"\n",
    "\n",
    "ypred = pd.read_pickle(path+file+\"/expert/model_simulations.pkl\")[\"ypred\"][0,:]\n",
    "quantiles = pd.read_pickle(path+file+\"/expert/elicited_statistics.pkl\")[\"quantiles_ypred\"]\n",
    "\n",
    "_, axs = plt.subplots(1,1, figsize=(8,3))\n",
    "sns.kdeplot(ypred, ax=axs, zorder=1, lw = 3, color=\"orange\")\n",
    "[axs.axvline(quantiles[0,i], zorder=2, linestyle=\"dashed\", color=\"black\") for i in range(quantiles.shape[-1])]\n",
    "axs.set_xlim(120, 220)\n",
    "axs.set_ylim(0, 0.085)\n",
    "[axs.text(quantiles[0,i], 0.08, fr\"$q_{{{p}}}$\") for i,p in enumerate([\"5\",\"25\",\"50\",\"75\",\"95\"])] \n",
    "axs.set_xlabel(r\"$height_i$ (in cm)\")\n",
    "plt.show()\n",
    "quantiles"
   ]
  },
  {
   "cell_type": "markdown",
   "id": "323c671c-0766-4ae8-b6f2-cdc1b1f52cd1",
   "metadata": {},
   "source": [
    "## Setting up the training"
   ]
  },
  {
   "cell_type": "code",
   "execution_count": 7,
   "id": "61d9b05f-5a22-4079-9857-7da3affaadd8",
   "metadata": {},
   "outputs": [],
   "source": [
    "#%% Loss function\n",
    "def loss_function():\n",
    "    return loss(\n",
    "        loss_function=MMD_energy,\n",
    "        loss_weighting=None\n",
    "        )\n",
    "    \n",
    "#%% Training settings\n",
    "def optimization_settings():\n",
    "    return optimization(\n",
    "        optimizer=tf.keras.optimizers.Adam,\n",
    "        optimizer_specs={\n",
    "            \"learning_rate\": 0.05,  \n",
    "            \"clipnorm\": 1.0\n",
    "            }\n",
    "        )"
   ]
  },
  {
   "cell_type": "markdown",
   "id": "a352eca0-53ea-4ff2-a654-c0f65de0ff4c",
   "metadata": {},
   "source": [
    "## Putting it all together"
   ]
  },
  {
   "cell_type": "code",
   "execution_count": 8,
   "id": "d7020cd6-eb9e-4a5a-9b31-246d5ba8af4b",
   "metadata": {},
   "outputs": [
    {
     "name": "stdout",
     "output_type": "stream",
     "text": [
      "|||||||||||||||||||||||||||||||||||||||||||||||||||||||||||||||||||||||||||||||||||||||||||||||||||| \n",
      "epoch_time: 0.379 sec\n",
      "Epoch: 0, loss: 11.07394, lr: 0.050000\n",
      "epoch_time: 0.208 sec\n",
      "Epoch: 30, loss: 6.49424, lr: 0.050000\n",
      "Estimated time until completion: 00:00:57\n",
      "epoch_time: 0.152 sec\n",
      "Epoch: 60, loss: 5.21699, lr: 0.050000\n",
      "Estimated time until completion: 00:00:50\n",
      "epoch_time: 0.237 sec\n",
      "Epoch: 90, loss: 4.96855, lr: 0.050000\n",
      "Estimated time until completion: 00:00:43\n",
      "epoch_time: 0.166 sec\n",
      "Epoch: 120, loss: 4.62890, lr: 0.050000\n",
      "Estimated time until completion: 00:00:37\n",
      "epoch_time: 0.206 sec\n",
      "Epoch: 150, loss: 4.16795, lr: 0.050000\n",
      "Estimated time until completion: 00:00:31\n",
      "epoch_time: 0.258 sec\n",
      "Epoch: 180, loss: 3.45565, lr: 0.050000\n",
      "Estimated time until completion: 00:00:25\n",
      "epoch_time: 0.210 sec\n",
      "Epoch: 210, loss: 3.16725, lr: 0.050000\n",
      "Estimated time until completion: 00:00:19\n",
      "epoch_time: 0.192 sec\n",
      "Epoch: 240, loss: 3.06906, lr: 0.050000\n",
      "Estimated time until completion: 00:00:12\n",
      "epoch_time: 0.287 sec\n",
      "Epoch: 270, loss: 2.81568, lr: 0.050000\n",
      "Estimated time until completion: 00:00:06\n",
      "Done :)\n"
     ]
    }
   ],
   "source": [
    "# run the training \n",
    "prior_elicitation(\n",
    "    method = \"parametric_prior\",\n",
    "    sim_id = \"toy\",\n",
    "    B = 128,\n",
    "    rep = 400,\n",
    "    seed = 0,\n",
    "    burnin = 100,\n",
    "    epochs = 300,\n",
    "    output_path = \"results\",\n",
    "    param_independence = {\n",
    "        \"independent\": True,\n",
    "        \"loss-scaling\": 0.1\n",
    "        },\n",
    "    model_params = model_params,\n",
    "    expert_input = expert_input,\n",
    "    generative_model = generative_model,\n",
    "    target_quantities = target_quantities,\n",
    "    loss_function = loss_function,\n",
    "    optimization_settings = optimization_settings,\n",
    "    view_ep = 30,\n",
    "    print_info = True\n",
    "    )"
   ]
  },
  {
   "cell_type": "markdown",
   "id": "2b6caea2-6202-4e4f-ad6c-99300b1a7fff",
   "metadata": {},
   "source": [
    "### Results"
   ]
  },
  {
   "cell_type": "code",
   "execution_count": 10,
   "id": "b26b5ae5-021d-40b9-b179-533f6a61774b",
   "metadata": {},
   "outputs": [
    {
     "data": {
      "image/png": "[encoded data removed]",
      "text/plain": [
       "<Figure size 600x200 with 3 Axes>"
      ]
     },
     "metadata": {},
     "output_type": "display_data"
    }
   ],
   "source": [
    "path = \"elicit/simulations/results/data/parametric_prior/\"\n",
    "file = \"toy_0\"\n",
    "\n",
    "hyperparam = pd.read_pickle(path+file+\"/final_results.pkl\")[\"hyperparameter\"]\n",
    "\n",
    "_, axs = plt.subplots(1,3, constrained_layout=True, figsize=(6,2))\n",
    "[axs[i].plot(hyperparam[p], color=\"orange\") for i,p in enumerate([\"mu_mu\", \"sigma_mu\", \"mu_sigma\"])]\n",
    "[axs[i].set_title(t) for i,t in enumerate([r\"$\\mu_\\mu$\", r\"$\\sigma_\\mu$\", r\"$\\sigma_\\sigma$\"])] \n",
    "[axs[i].axhline(l, linestyle=\"dashed\", color=\"black\") for i,l in enumerate([170, 2, 10])] \n",
    "axs[1].set_xlabel(\"iterations\")\n",
    "axs[0].set_ylabel(r\"$height_i$\")\n",
    "plt.show()"
   ]
  },
  {
   "cell_type": "code",
   "execution_count": 11,
   "id": "7c828e5c-baa6-45cf-b41d-88c82fd305e4",
   "metadata": {},
   "outputs": [
    {
     "data": {
      "image/png": "[encoded data removed]",
      "text/plain": [
       "<Figure size 500x200 with 2 Axes>"
      ]
     },
     "metadata": {},
     "output_type": "display_data"
    }
   ],
   "source": [
    "def compute_final_hyp(name, last_val=30):\n",
    "    return tf.reduce_mean(pd.read_pickle(path+file+\"/final_results.pkl\")[\"hyperparameter\"][name][-last_val:])\n",
    "\n",
    "xrge_mu = tf.range(150., 190., 0.1)\n",
    "xrge_sigma = tf.range(0., 50., 0.1)\n",
    "\n",
    "prior_mu = tfd.Normal(\n",
    "    loc=compute_final_hyp(\"mu_mu\"),\n",
    "    scale=compute_final_hyp(\"sigma_mu\")\n",
    ").prob(xrge_mu)\n",
    "\n",
    "prior_sigma = tfd.HalfNormal(\n",
    "    scale=compute_final_hyp(\"mu_sigma\")\n",
    ").prob(xrge_sigma)\n",
    "\n",
    "_, axs = plt.subplots(1,2, constrained_layout=True, figsize=(5,2))\n",
    "[axs[i].plot(xrge, par) for i, (xrge,par) in enumerate(zip([xrge_mu, xrge_sigma],[prior_mu, prior_sigma]))]\n",
    "axs[0].set_xlabel(r\"$height_i$\")\n",
    "axs[0].set_ylabel(\"density\")\n",
    "[axs[i].set_title(t) for i,t in enumerate([r\"$p(\\mu)$\", r\"$p(\\sigma)$\"])]\n",
    "plt.show()"
   ]
  },
  {
   "cell_type": "code",
   "execution_count": 25,
   "id": "7bf89608-3f30-4069-bd31-1a05d95bb307",
   "metadata": {},
   "outputs": [
    {
     "data": {
      "text/html": [
       "<div>\n",
       "<style scoped>\n",
       "    .dataframe tbody tr th:only-of-type {\n",
       "        vertical-align: middle;\n",
       "    }\n",
       "\n",
       "    .dataframe tbody tr th {\n",
       "        vertical-align: top;\n",
       "    }\n",
       "\n",
       "    .dataframe thead th {\n",
       "        text-align: right;\n",
       "    }\n",
       "</style>\n",
       "<table border=\"1\" class=\"dataframe\">\n",
       "  <thead>\n",
       "    <tr style=\"text-align: right;\">\n",
       "      <th></th>\n",
       "      <th>quantiles</th>\n",
       "    </tr>\n",
       "  </thead>\n",
       "  <tbody>\n",
       "    <tr>\n",
       "      <th>5%</th>\n",
       "      <td>154.0</td>\n",
       "    </tr>\n",
       "    <tr>\n",
       "      <th>25%</th>\n",
       "      <td>166.0</td>\n",
       "    </tr>\n",
       "    <tr>\n",
       "      <th>50%</th>\n",
       "      <td>170.0</td>\n",
       "    </tr>\n",
       "    <tr>\n",
       "      <th>75%</th>\n",
       "      <td>174.0</td>\n",
       "    </tr>\n",
       "    <tr>\n",
       "      <th>95%</th>\n",
       "      <td>186.0</td>\n",
       "    </tr>\n",
       "  </tbody>\n",
       "</table>\n",
       "</div>"
      ],
      "text/plain": [
       "     quantiles\n",
       "5%       154.0\n",
       "25%      166.0\n",
       "50%      170.0\n",
       "75%      174.0\n",
       "95%      186.0"
      ]
     },
     "execution_count": 25,
     "metadata": {},
     "output_type": "execute_result"
    }
   ],
   "source": [
    "import numpy as np\n",
    "quantiles = tf.round(tf.reduce_mean(pd.read_pickle(path+file+\"/elicited_statistics.pkl\")[\"quantiles_ypred\"], axis=0))\n",
    "pd.DataFrame(\n",
    "    quantiles,\n",
    "    columns=[\"quantiles\"], \n",
    "    index = [\"5%\", \"25%\", \"50%\", \"75%\",\"95%\"]\n",
    ")"
   ]
  }
 ],
 "metadata": {
  "kernelspec": {
   "display_name": "Python 3 (ipykernel)",
   "language": "python",
   "name": "python3"
  },
  "language_info": {
   "codemirror_mode": {
    "name": "ipython",
    "version": 3
   },
   "file_extension": ".py",
   "mimetype": "text/x-python",
   "name": "python",
   "nbconvert_exporter": "python",
   "pygments_lexer": "ipython3",
   "version": "3.9.19"
  }
 },
 "nbformat": 4,
 "nbformat_minor": 5
}
